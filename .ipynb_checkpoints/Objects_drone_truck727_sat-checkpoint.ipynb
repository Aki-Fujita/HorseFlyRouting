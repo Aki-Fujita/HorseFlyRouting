{
 "cells": [
  {
   "cell_type": "markdown",
   "metadata": {},
   "source": [
    "# 実際にトラックとドローンを動かすにあたりクラスの導入と動作確認\n",
    "●ドローンの初期変数(番号, 航続距離, 充電時間, 飛行距離, 速度)\n",
    "\n",
    "残りの、(目的地、飛行時間、充電時間、とかはその都度決めとけばいい)"
   ]
  },
  {
   "cell_type": "code",
   "execution_count": 41,
   "metadata": {
    "collapsed": false
   },
   "outputs": [
    {
     "data": {
      "image/png": "[encoded data removed]",
      "text/plain": [
       "<Figure size 432x288 with 1 Axes>"
      ]
     },
     "metadata": {},
     "output_type": "display_data"
    }
   ],
   "source": [
    "import networkx as nx\n",
    "import numpy as np\n",
    "import matplotlib.pyplot as plt\n",
    "cords = np.array([(0,0),(1,0),(1,1),(0,1)])\n",
    "pos = {i:cords[i] for i in range(4)}\n",
    "plt.scatter(cords[:,0], cords[:,1])\n",
    "plt.show()"
   ]
  },
  {
   "cell_type": "markdown",
   "metadata": {},
   "source": [
    "# ドローンは直線上を動くが目的地着いたら変数を変えて方向変換してほしい。\n",
    "     \n",
    "●あと、本番では帰り道のコーディングがやばい(その都度車に対して接近するようなコーディングにする？or目的地を最初に求める？)\n",
    "       \n",
    "→一旦車に近づくコードにする"
   ]
  },
  {
   "cell_type": "code",
   "execution_count": 52,
   "metadata": {
    "collapsed": false
   },
   "outputs": [],
   "source": [
    "class drone:\n",
    "    def __init__(self, id_, dep_time, speed, depNum, destNum): #startPoint, destination, time_outというのを後でagent変数として加える\n",
    "        self.id_ = id_\n",
    "        self.dep_corr = pos[depNum]\n",
    "        self.dest_corr = pos[destNum]\n",
    "        self.position = self.dep_corr\n",
    "        self.speed = speed\n",
    "        self.delivered = False\n",
    "        self.working = True # 車に戻ったらこれを切る\n",
    "        \n",
    "    def procede(self):\n",
    "        dist = np.linalg.norm(self.dest_corr - self.position)\n",
    "        #print(\"dest=\",self.dest_corr)\n",
    "        #print(\"car_corr=\",car_corr)\n",
    "        if dist < self.speed:\n",
    "            self.position = self.dest_corr\n",
    "            #print(\"drone_pos=\", self.position)\n",
    "            #print(\"arrived\")\n",
    "            if not self.delivered:\n",
    "                self.delivered = True\n",
    "            if self.delivered and (np.linalg.norm(car_corr - self.position) < self.speed):\n",
    "                self.working = False\n",
    "                #print(\"a\")\n",
    "            #print(\"destination=\", self.dest_corr)\n",
    "            \n",
    "        else:\n",
    "            vector = self.dest_corr - self.position\n",
    "            e = vector / np.linalg.norm(vector + 1e-10)\n",
    "            self.position = self.position + e * self.speed\n",
    "            #print(\"drone_pos=\", self.position)\n",
    "    def work(self):\n",
    "        if self.delivered:\n",
    "            self.dest_corr = car_corr\n",
    "        self.procede()\n",
    "            \n",
    "    def action(self):\n",
    "        if self.working:\n",
    "            self.work()\n",
    "    \n",
    "class car:\n",
    "    def __init__(self, id_, dep_time, speed, routeList, centroids): #\n",
    "        self.id_ = id_\n",
    "        self.routeList = routeList\n",
    "        self.centroids = centroids\n",
    "        self.depNum = 0 # この番号はあくまでもルートリストの中のindexであることに注意！！\n",
    "        self.destNum = 1  # この番号はあくまでもルートリストの中のindexであることに注意！！\n",
    "        self.dep_corr = pos[routeList[0]]\n",
    "        self.dest_corr = pos[routeList[1]]\n",
    "        self.position = self.dep_corr\n",
    "        self.speed = speed\n",
    "        self.visitNodes = len(self.routeList)\n",
    "        self.centroidNum = 0\n",
    "        \n",
    "    def procede(self):\n",
    "        dist = np.linalg.norm(self.dest_corr - self.position)\n",
    "        #print(dist)\n",
    "        if dist < self.speed: # 次のステップで近づけたら、という意味\n",
    "            self.position = self.dest_corr\n",
    "            self.changeDirection()\n",
    "            print(\"car arrived\")\n",
    "        else:\n",
    "            vector = self.dest_corr - self.position # まだ目標まで遠いときは、の意味\n",
    "            e = vector / np.linalg.norm(vector + 1e-10)\n",
    "            self.position = self.position + e * self.speed\n",
    "            #print(\"car_pos=\", self.position)\n",
    "    \n",
    "    def count(self): #次の重心についてしまったけどドローンが全員帰ってきてないときは待つ\n",
    "        count_ = sum([1 for drone in droneSet if drone.working])\n",
    "        if count_ == 0:\n",
    "            print(\"All On the car\")\n",
    "        #print(\"DroneNum=\",2- count_)\n",
    "        return count_\n",
    "    \n",
    "    def changeDirection(self): # Centroidまでは何も考えず進む、centroidでは必ずdroneが全部来るまで待つ\n",
    "        self.depNum = self.destNum # 出発点を変更\n",
    "        if routeList[self.depNum] in centroids and self.count() != 0: # これが0だったら全員車に戻ってる\n",
    "                print(\"Waiting for Drone\")\n",
    "                \n",
    "        else:\n",
    "            self.destNum += 1\n",
    "            self.dest_corr = pos[self.routeList[self.destNum]]\n",
    "            print(\"car_dest=\",self.dest_corr, \"destNum=\",self.destNum)\n",
    "        \n",
    "    \n",
    "        "
   ]
  },
  {
   "cell_type": "markdown",
   "metadata": {},
   "source": [
    "# 以下、シミュレーションのひな型"
   ]
  },
  {
   "cell_type": "code",
   "execution_count": 58,
   "metadata": {
    "collapsed": false
   },
   "outputs": [
    {
     "name": "stdout",
     "output_type": "stream",
     "text": [
      "time= 0\n",
      "[0 0 0 0] [0 0]\n",
      "time= 1\n",
      "[0.07071068 0.07071068 0.1        0.        ] [0.   0.07]\n",
      "time= 2\n",
      "[0.14142136 0.14142136 0.2        0.        ] [0.   0.14]\n",
      "time= 3\n",
      "[0.21213203 0.21213203 0.3        0.        ] [0.   0.21]\n",
      "time= 4\n",
      "[0.28284271 0.28284271 0.4        0.        ] [0.   0.28]\n",
      "time= 5\n",
      "[0.35355339 0.35355339 0.5        0.        ] [0.   0.35]\n",
      "time= 6\n",
      "[0.42426407 0.42426407 0.6        0.        ] [0.   0.42]\n",
      "time= 7\n",
      "[0.49497475 0.49497475 0.7        0.        ] [0.   0.49]\n",
      "time= 8\n",
      "[0.56568542 0.56568542 0.8        0.        ] [0.   0.56]\n",
      "time= 9\n",
      "[0.6363961 0.6363961 0.9       0.       ] [0.   0.63]\n",
      "time= 10\n",
      "[0.70710678 0.70710678 1.         0.        ] [0.  0.7]\n",
      "time= 11\n",
      "[0.77781746 0.77781746 1.         0.        ] [0.   0.77]\n",
      "time= 12\n",
      "[0.84852814 0.84852814 0.92342951 0.06431921] [0.   0.84]\n",
      "time= 13\n",
      "[0.91923882 0.91923882 0.84968243 0.13185711] [0.   0.91]\n",
      "time= 14\n",
      "[0.98994949 0.98994949 0.77890766 0.20250364] [0.   0.98]\n",
      "time= 15\n",
      "car_dest= [1 1] destNum= 2\n",
      "car arrived\n",
      "[1.         1.         0.70903565 0.27404315] [0 1]\n",
      "time= 16\n",
      "[0.9        1.         0.64296158 0.34910457] [0.07 1.  ]\n",
      "time= 17\n",
      "[0.8        1.         0.58181706 0.42823326] [0.14 1.  ]\n",
      "time= 18\n",
      "[0.7        1.         0.52730084 0.51206631] [0.21 1.  ]\n",
      "time= 19\n",
      "[0.6        1.         0.48209257 0.60126391] [0.28 1.  ]\n",
      "time= 20\n",
      "[0.5        1.         0.45064542 0.69619061] [0.35 1.  ]\n",
      "time= 21\n",
      "[0.42       1.         0.4406093  0.79568571] [0.42 1.  ]\n",
      "time= 22\n",
      "[0.42       1.         0.46410637 0.89288596] [0.49 1.  ]\n",
      "time= 23\n",
      "[0.42       1.         0.530807   0.96739116] [0.56 1.  ]\n",
      "time= 24\n",
      "[0.42       1.         0.62580539 0.99862106] [0.63 1.  ]\n",
      "time= 25\n",
      "[0.42 1.   0.7  1.  ] [0.7 1. ]\n",
      "time= 26\n",
      "All On the car\n",
      "[0.42 1.   0.7  1.  ] [0.77 1.  ]\n",
      "time= 27\n",
      "All On the car\n",
      "[0.42 1.   0.7  1.  ] [0.84 1.  ]\n",
      "time= 28\n",
      "All On the car\n",
      "[0.42 1.   0.7  1.  ] [0.91 1.  ]\n",
      "time= 29\n",
      "All On the car\n",
      "[0.42 1.   0.7  1.  ] [0.98 1.  ]\n",
      "time= 30\n",
      "All On the car\n",
      "All On the car\n",
      "car_dest= [1 0] destNum= 3\n",
      "car arrived\n",
      "[0.42 1.   0.7  1.  ] [1 1]\n",
      "time= 31\n",
      "All On the car\n",
      "[0.42 1.   0.7  1.  ] [1.   0.93]\n",
      "time= 32\n",
      "All On the car\n",
      "[0.42 1.   0.7  1.  ] [1.   0.86]\n",
      "time= 33\n",
      "All On the car\n",
      "[0.42 1.   0.7  1.  ] [1.   0.79]\n",
      "time= 34\n",
      "All On the car\n",
      "[0.42 1.   0.7  1.  ] [1.   0.72]\n",
      "time= 35\n",
      "All On the car\n",
      "[0.42 1.   0.7  1.  ] [1.   0.65]\n",
      "time= 36\n",
      "All On the car\n",
      "[0.42 1.   0.7  1.  ] [1.   0.58]\n",
      "time= 37\n",
      "All On the car\n",
      "[0.42 1.   0.7  1.  ] [1.   0.51]\n",
      "time= 38\n",
      "All On the car\n",
      "[0.42 1.   0.7  1.  ] [1.   0.44]\n",
      "time= 39\n",
      "All On the car\n",
      "[0.42 1.   0.7  1.  ] [1.   0.37]\n"
     ]
    },
    {
     "data": {
      "image/png": "[encoded data removed]",
      "text/plain": [
       "<Figure size 432x288 with 1 Axes>"
      ]
     },
     "metadata": {},
     "output_type": "display_data"
    }
   ],
   "source": [
    "droneSet = [drone(1, 0, 0.1, 0, 2), drone(1, 0, 0.1, 0, 1)]\n",
    "len(droneSet)\n",
    "\n",
    "a = (np.array([drone.position for drone in droneSet]).flatten())\n",
    "routeList = [0,3,2,1]\n",
    "centroids = [ 2]\n",
    "trajectory = np.zeros((0,4))\n",
    "car_trajectory = np.zeros((0,2))\n",
    "car_1 = car(1, 0, 0.07,  routeList, centroids)\n",
    "\n",
    "\n",
    "\n",
    "for time in range(40):\n",
    "    print(\"time=\", time)\n",
    "    car_1.count()\n",
    "    if time == 0:\n",
    "       pass\n",
    "    else:\n",
    "        car_1.procede()\n",
    "        car_corr = car_1.position\n",
    "        [drone.action() for drone in droneSet]\n",
    "    a = (np.array([droneSet[i].position for i in range(2)]).flatten())\n",
    "    trajectory = np.append(trajectory, np.array([a]), axis = 0)\n",
    "    car_trajectory = np.append(car_trajectory, np.array([car_1.position]), axis = 0)\n",
    "    print(a, car_1.position)\n",
    "    plt.figure()\n",
    "    plt.scatter(trajectory[time,0],trajectory[time,1],c = \"b\")\n",
    "    plt.scatter(trajectory[time,2],trajectory[time,3],c = \"green\")\n",
    "    plt.scatter(car_trajectory[time,0],car_trajectory[time,1],c = \"red\")\n",
    "    plt.plot(trajectory[:,0],trajectory[:,1],c = \"b\")\n",
    "    plt.plot(trajectory[:,2],trajectory[:,3],c = \"green\")\n",
    "    plt.plot(car_trajectory[:,0],car_trajectory[:,1], c = \"red\")\n",
    "    plt.xlim([-0.2,1.1]), plt.ylim([-0.2,1.1])\n",
    "    plt.savefig(\"forMovie/time=\"+str(time)+\"_test.png\")\n",
    "    plt.close()\n",
    "\n",
    "    #print()\n",
    "#print(car_trajectory)\n",
    "plt.plot(trajectory[:,0],trajectory[:,1],c = \"b\")\n",
    "plt.plot(trajectory[:,2],trajectory[:,3],c = \"green\")\n",
    "plt.plot(car_trajectory[:,0],car_trajectory[:,1], c = \"red\")\n",
    "plt.xlim([-0.2,1.1]), plt.ylim([-0.2,1.1])\n",
    "plt.show()"
   ]
  },
  {
   "cell_type": "markdown",
   "metadata": {},
   "source": [
    "# ここで今一度グラフのインポート"
   ]
  },
  {
   "cell_type": "code",
   "execution_count": 1,
   "metadata": {
    "collapsed": false,
    "scrolled": true
   },
   "outputs": [
    {
     "ename": "NameError",
     "evalue": "name 'np' is not defined",
     "output_type": "error",
     "traceback": [
      "\u001b[0;31m---------------------------------------------------------------------------\u001b[0m",
      "\u001b[0;31mNameError\u001b[0m                                 Traceback (most recent call last)",
      "\u001b[0;32m<ipython-input-1-f8b0520ae2aa>\u001b[0m in \u001b[0;36m<module>\u001b[0;34m()\u001b[0m\n\u001b[1;32m     12\u001b[0m \u001b[0mdf2\u001b[0m \u001b[1;33m=\u001b[0m \u001b[0mdf2\u001b[0m\u001b[1;33m.\u001b[0m\u001b[0mreplace\u001b[0m\u001b[1;33m(\u001b[0m\u001b[0mlist\u001b[0m\u001b[1;33m(\u001b[0m\u001b[0mpos\u001b[0m\u001b[1;33m)\u001b[0m\u001b[1;33m,\u001b[0m\u001b[0mrange\u001b[0m\u001b[1;33m(\u001b[0m\u001b[0mlen\u001b[0m\u001b[1;33m(\u001b[0m\u001b[0mlist\u001b[0m\u001b[1;33m(\u001b[0m\u001b[0mpos\u001b[0m\u001b[1;33m)\u001b[0m\u001b[1;33m)\u001b[0m\u001b[1;33m)\u001b[0m\u001b[1;33m)\u001b[0m\u001b[1;33m\u001b[0m\u001b[0m\n\u001b[1;32m     13\u001b[0m \u001b[0mdf1\u001b[0m \u001b[1;33m=\u001b[0m \u001b[0mdf1\u001b[0m\u001b[1;33m.\u001b[0m\u001b[0mreplace\u001b[0m\u001b[1;33m(\u001b[0m\u001b[0mlist\u001b[0m\u001b[1;33m(\u001b[0m\u001b[0mpos\u001b[0m\u001b[1;33m)\u001b[0m\u001b[1;33m,\u001b[0m\u001b[0mrange\u001b[0m\u001b[1;33m(\u001b[0m\u001b[0mlen\u001b[0m\u001b[1;33m(\u001b[0m\u001b[0mlist\u001b[0m\u001b[1;33m(\u001b[0m\u001b[0mpos\u001b[0m\u001b[1;33m)\u001b[0m\u001b[1;33m)\u001b[0m\u001b[1;33m)\u001b[0m\u001b[1;33m)\u001b[0m\u001b[1;33m\u001b[0m\u001b[0m\n\u001b[0;32m---> 14\u001b[0;31m \u001b[0medges\u001b[0m \u001b[1;33m=\u001b[0m \u001b[0mnp\u001b[0m\u001b[1;33m.\u001b[0m\u001b[0mconcatenate\u001b[0m\u001b[1;33m(\u001b[0m\u001b[1;33m[\u001b[0m\u001b[0mnp\u001b[0m\u001b[1;33m.\u001b[0m\u001b[0marray\u001b[0m\u001b[1;33m(\u001b[0m\u001b[1;33m[\u001b[0m\u001b[0mdf1\u001b[0m\u001b[1;33m]\u001b[0m\u001b[1;33m)\u001b[0m\u001b[1;33m,\u001b[0m \u001b[0mnp\u001b[0m\u001b[1;33m.\u001b[0m\u001b[0marray\u001b[0m\u001b[1;33m(\u001b[0m\u001b[1;33m[\u001b[0m\u001b[0mdf2\u001b[0m\u001b[1;33m]\u001b[0m\u001b[1;33m)\u001b[0m\u001b[1;33m,\u001b[0m \u001b[0mnp\u001b[0m\u001b[1;33m.\u001b[0m\u001b[0marray\u001b[0m\u001b[1;33m(\u001b[0m\u001b[1;33m[\u001b[0m\u001b[0mdf3\u001b[0m\u001b[1;33m]\u001b[0m\u001b[1;33m)\u001b[0m\u001b[1;33m]\u001b[0m\u001b[1;33m,\u001b[0m \u001b[0maxis\u001b[0m \u001b[1;33m=\u001b[0m \u001b[1;36m0\u001b[0m\u001b[1;33m)\u001b[0m\u001b[1;33m.\u001b[0m\u001b[0mT\u001b[0m\u001b[1;33m\u001b[0m\u001b[0m\n\u001b[0m\u001b[1;32m     15\u001b[0m \u001b[0mcoords\u001b[0m \u001b[1;33m=\u001b[0m \u001b[0mdf\u001b[0m\u001b[1;33m.\u001b[0m\u001b[0mvalues\u001b[0m\u001b[1;33m[\u001b[0m\u001b[1;33m:\u001b[0m\u001b[1;33m,\u001b[0m\u001b[1;36m1\u001b[0m\u001b[1;33m:\u001b[0m\u001b[1;36m3\u001b[0m\u001b[1;33m]\u001b[0m\u001b[1;33m\u001b[0m\u001b[0m\n\u001b[1;32m     16\u001b[0m \u001b[0mposRename\u001b[0m \u001b[1;33m=\u001b[0m \u001b[1;33m{\u001b[0m\u001b[1;33m}\u001b[0m\u001b[1;33m\u001b[0m\u001b[0m\n",
      "\u001b[0;31mNameError\u001b[0m: name 'np' is not defined"
     ]
    }
   ],
   "source": [
    "import pandas as pd\n",
    "import pickle\n",
    "def pickle_load(path):\n",
    "    with open(path, mode='rb') as f:\n",
    "        data = pickle.load(f)\n",
    "        return data\n",
    "\n",
    "df = pd.read_csv(\"networkData.csv\")\n",
    "pos = pickle_load(\"positionDict.pickle\")\n",
    "df1, df2, df3 = df[\"START_NODE\"], df[\"END_NODE\"], df[\"LENGTH\"]\n",
    "#range(len(list(pos)))\n",
    "df2 = df2.replace(list(pos),range(len(list(pos))))\n",
    "df1 = df1.replace(list(pos),range(len(list(pos))))\n",
    "edges = np.concatenate([np.array([df1]), np.array([df2]), np.array([df3])], axis = 0).T\n",
    "coords = df.values[:,1:3]\n",
    "posRename = {}\n",
    "# ndarrayの情報を「頂点:(x,y)」という値(辞書)に変換する\n",
    "for i in range(len(coords) ):\n",
    "    if i != 0 and (coords[i][0], coords[i][1]) == (coords[i-1][0], coords[i-1][1]):\n",
    "        pass\n",
    "    else:\n",
    "        posRename[int(df1[i])] = (coords[i][0], coords[i][1])\n",
    "np.savetxt(\"edge_weight.txt\", edges, fmt = '%d')\n",
    "G2 = nx.read_weighted_edgelist(\"edge_weight.txt\", nodetype = int)\n",
    "nx.draw(G2, posRename, node_size = 1, node_color = \"b\", edge_color=\"gray\", width=1)\n",
    "plt.show()"
   ]
  },
  {
   "cell_type": "code",
   "execution_count": null,
   "metadata": {
    "collapsed": true
   },
   "outputs": [],
   "source": []
  }
 ],
 "metadata": {
  "kernelspec": {
   "display_name": "Python 3",
   "language": "python",
   "name": "python3"
  },
  "language_info": {
   "codemirror_mode": {
    "name": "ipython",
    "version": 3
   },
   "file_extension": ".py",
   "mimetype": "text/x-python",
   "name": "python",
   "nbconvert_exporter": "python",
   "pygments_lexer": "ipython3",
   "version": "3.6.6"
  }
 },
 "nbformat": 4,
 "nbformat_minor": 2
}
